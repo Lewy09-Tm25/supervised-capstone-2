{
 "cells": [
  {
   "cell_type": "markdown",
   "metadata": {},
   "source": [
    "### Analysis of inner joined data (trees, heat, traffic) - n_clusters: 2"
   ]
  },
  {
   "cell_type": "code",
   "execution_count": 20,
   "metadata": {},
   "outputs": [],
   "source": [
    "import pandas as pd"
   ]
  },
  {
   "cell_type": "code",
   "execution_count": 21,
   "metadata": {},
   "outputs": [],
   "source": [
    "mergedf = pd.read_csv(\"merged_data.csv\")"
   ]
  },
  {
   "cell_type": "code",
   "execution_count": 22,
   "metadata": {},
   "outputs": [
    {
     "data": {
      "text/plain": [
       "(290222, 40)"
      ]
     },
     "execution_count": 22,
     "metadata": {},
     "output_type": "execute_result"
    }
   ],
   "source": [
    "mergedf.shape"
   ]
  },
  {
   "cell_type": "code",
   "execution_count": 23,
   "metadata": {},
   "outputs": [
    {
     "data": {
      "text/plain": [
       "tree_id       290222\n",
       "y_sp          289850\n",
       "x_sp          289638\n",
       "longitude     288690\n",
       "latitude      288004\n",
       "address       185080\n",
       "block_id       46089\n",
       "boro_ct         1024\n",
       "created_at       449\n",
       "zipcode          136\n",
       "dtype: int64"
      ]
     },
     "execution_count": 23,
     "metadata": {},
     "output_type": "execute_result"
    }
   ],
   "source": [
    "ser = mergedf.nunique()\n",
    "ser.sort_values(ascending=False)[:10]"
   ]
  },
  {
   "cell_type": "code",
   "execution_count": 25,
   "metadata": {},
   "outputs": [
    {
     "data": {
      "text/plain": [
       "40"
      ]
     },
     "execution_count": 25,
     "metadata": {},
     "output_type": "execute_result"
    }
   ],
   "source": [
    "nulls = mergedf.isnull().sum()\n",
    "len(nulls.sort_values(ascending=False))"
   ]
  },
  {
   "cell_type": "code",
   "execution_count": null,
   "metadata": {},
   "outputs": [],
   "source": []
  },
  {
   "cell_type": "markdown",
   "metadata": {},
   "source": [
    "### Analysis of outer joined data (trees, heat, traffic) - n_clusters: 2"
   ]
  },
  {
   "cell_type": "code",
   "execution_count": 10,
   "metadata": {},
   "outputs": [],
   "source": [
    "import pandas as pd"
   ]
  },
  {
   "cell_type": "code",
   "execution_count": 11,
   "metadata": {},
   "outputs": [],
   "source": [
    "mergedf = pd.read_csv(\"merged_data.csv\")"
   ]
  },
  {
   "cell_type": "code",
   "execution_count": 12,
   "metadata": {},
   "outputs": [
    {
     "data": {
      "text/plain": [
       "(683906, 40)"
      ]
     },
     "execution_count": 12,
     "metadata": {},
     "output_type": "execute_result"
    }
   ],
   "source": [
    "mergedf.shape"
   ]
  },
  {
   "cell_type": "code",
   "execution_count": 15,
   "metadata": {},
   "outputs": [
    {
     "data": {
      "text/plain": [
       "tree_id       683788\n",
       "y_sp          682632\n",
       "x_sp          681630\n",
       "longitude     677101\n",
       "latitude      676080\n",
       "address       408701\n",
       "block_id      101390\n",
       "boro_ct         2152\n",
       "created_at       483\n",
       "Geography        197\n",
       "dtype: int64"
      ]
     },
     "execution_count": 15,
     "metadata": {},
     "output_type": "execute_result"
    }
   ],
   "source": [
    "ser = mergedf.nunique()\n",
    "ser.sort_values(ascending=False)[:10]"
   ]
  },
  {
   "cell_type": "code",
   "execution_count": 19,
   "metadata": {},
   "outputs": [
    {
     "data": {
      "text/plain": [
       "40"
      ]
     },
     "execution_count": 19,
     "metadata": {},
     "output_type": "execute_result"
    }
   ],
   "source": [
    "nulls = mergedf.isnull().sum()\n",
    "len(nulls.sort_values(ascending=False))"
   ]
  },
  {
   "cell_type": "code",
   "execution_count": 27,
   "metadata": {},
   "outputs": [
    {
     "data": {
      "text/plain": [
       "Geography\n",
       "Forest Hills         7701\n",
       "South Ozone Park     7321\n",
       "St. Albans           7239\n",
       "Bay Ridge            7026\n",
       "Jackson Heights      6863\n",
       "                     ... \n",
       "Crotona Park East    1546\n",
       "Prospect Heights     1535\n",
       "Brighton Beach       1281\n",
       "Gramercy             1172\n",
       "Parkchester           790\n",
       "Name: count, Length: 79, dtype: int64"
      ]
     },
     "execution_count": 27,
     "metadata": {},
     "output_type": "execute_result"
    }
   ],
   "source": [
    "mergedf['Geography'].value_counts()"
   ]
  },
  {
   "cell_type": "markdown",
   "metadata": {},
   "source": [
    "### Analysis"
   ]
  },
  {
   "cell_type": "code",
   "execution_count": 1,
   "metadata": {},
   "outputs": [],
   "source": [
    "import pandas as pd"
   ]
  },
  {
   "cell_type": "code",
   "execution_count": 8,
   "metadata": {},
   "outputs": [],
   "source": [
    "heatdf = pd.read_csv(\"datasets/Heat_vulnerability/NYC_Heat_vulnerability_index.csv\")\n",
    "treedf = pd.read_csv(\"datasets/Tree_Census/new_york_tree_census_2015.csv\")\n",
    "trafficdf = pd.read_csv(\"datasets/Traffic_Road/Automated_Traffic_Volume_Counts_20241029.csv\")"
   ]
  },
  {
   "cell_type": "code",
   "execution_count": 9,
   "metadata": {},
   "outputs": [
    {
     "name": "stdout",
     "output_type": "stream",
     "text": [
      "(197, 6)\n",
      "(683788, 41)\n",
      "(1712605, 14)\n",
      "(109, 7)\n",
      "(49, 5)\n"
     ]
    }
   ],
   "source": [
    "print(heatdf.shape)\n",
    "print(treedf.shape)\n",
    "print(trafficdf.shape)"
   ]
  },
  {
   "cell_type": "code",
   "execution_count": 3,
   "metadata": {},
   "outputs": [
    {
     "data": {
      "text/html": [
       "<div>\n",
       "<style scoped>\n",
       "    .dataframe tbody tr th:only-of-type {\n",
       "        vertical-align: middle;\n",
       "    }\n",
       "\n",
       "    .dataframe tbody tr th {\n",
       "        vertical-align: top;\n",
       "    }\n",
       "\n",
       "    .dataframe thead th {\n",
       "        text-align: right;\n",
       "    }\n",
       "</style>\n",
       "<table border=\"1\" class=\"dataframe\">\n",
       "  <thead>\n",
       "    <tr style=\"text-align: right;\">\n",
       "      <th></th>\n",
       "      <th>TimePeriod</th>\n",
       "      <th>GeoType</th>\n",
       "      <th>GeoID</th>\n",
       "      <th>GeoRank</th>\n",
       "      <th>Geography</th>\n",
       "      <th>Score out of 5</th>\n",
       "    </tr>\n",
       "  </thead>\n",
       "  <tbody>\n",
       "    <tr>\n",
       "      <th>0</th>\n",
       "      <td>2023</td>\n",
       "      <td>NTA2020</td>\n",
       "      <td>50101</td>\n",
       "      <td>9</td>\n",
       "      <td>Mott Haven-Port Morris</td>\n",
       "      <td>5</td>\n",
       "    </tr>\n",
       "    <tr>\n",
       "      <th>1</th>\n",
       "      <td>2023</td>\n",
       "      <td>NTA2020</td>\n",
       "      <td>50102</td>\n",
       "      <td>9</td>\n",
       "      <td>Melrose</td>\n",
       "      <td>5</td>\n",
       "    </tr>\n",
       "    <tr>\n",
       "      <th>2</th>\n",
       "      <td>2023</td>\n",
       "      <td>NTA2020</td>\n",
       "      <td>50201</td>\n",
       "      <td>9</td>\n",
       "      <td>Hunts Point</td>\n",
       "      <td>5</td>\n",
       "    </tr>\n",
       "    <tr>\n",
       "      <th>3</th>\n",
       "      <td>2023</td>\n",
       "      <td>NTA2020</td>\n",
       "      <td>50202</td>\n",
       "      <td>9</td>\n",
       "      <td>Longwood</td>\n",
       "      <td>5</td>\n",
       "    </tr>\n",
       "    <tr>\n",
       "      <th>4</th>\n",
       "      <td>2023</td>\n",
       "      <td>NTA2020</td>\n",
       "      <td>50301</td>\n",
       "      <td>9</td>\n",
       "      <td>Morrisania</td>\n",
       "      <td>5</td>\n",
       "    </tr>\n",
       "  </tbody>\n",
       "</table>\n",
       "</div>"
      ],
      "text/plain": [
       "   TimePeriod  GeoType  GeoID  GeoRank               Geography  Score out of 5\n",
       "0        2023  NTA2020  50101        9  Mott Haven-Port Morris               5\n",
       "1        2023  NTA2020  50102        9                 Melrose               5\n",
       "2        2023  NTA2020  50201        9             Hunts Point               5\n",
       "3        2023  NTA2020  50202        9                Longwood               5\n",
       "4        2023  NTA2020  50301        9              Morrisania               5"
      ]
     },
     "execution_count": 3,
     "metadata": {},
     "output_type": "execute_result"
    }
   ],
   "source": [
    "heatdf.head()"
   ]
  },
  {
   "cell_type": "code",
   "execution_count": 4,
   "metadata": {},
   "outputs": [
    {
     "data": {
      "text/html": [
       "<div>\n",
       "<style scoped>\n",
       "    .dataframe tbody tr th:only-of-type {\n",
       "        vertical-align: middle;\n",
       "    }\n",
       "\n",
       "    .dataframe tbody tr th {\n",
       "        vertical-align: top;\n",
       "    }\n",
       "\n",
       "    .dataframe thead th {\n",
       "        text-align: right;\n",
       "    }\n",
       "</style>\n",
       "<table border=\"1\" class=\"dataframe\">\n",
       "  <thead>\n",
       "    <tr style=\"text-align: right;\">\n",
       "      <th></th>\n",
       "      <th>TimePeriod</th>\n",
       "      <th>GeoID</th>\n",
       "      <th>GeoRank</th>\n",
       "      <th>Score out of 5</th>\n",
       "    </tr>\n",
       "  </thead>\n",
       "  <tbody>\n",
       "    <tr>\n",
       "      <th>count</th>\n",
       "      <td>197.0</td>\n",
       "      <td>197.000000</td>\n",
       "      <td>197.0</td>\n",
       "      <td>197.000000</td>\n",
       "    </tr>\n",
       "    <tr>\n",
       "      <th>mean</th>\n",
       "      <td>2023.0</td>\n",
       "      <td>547297.847716</td>\n",
       "      <td>9.0</td>\n",
       "      <td>3.030457</td>\n",
       "    </tr>\n",
       "    <tr>\n",
       "      <th>std</th>\n",
       "      <td>0.0</td>\n",
       "      <td>277804.486294</td>\n",
       "      <td>0.0</td>\n",
       "      <td>1.406648</td>\n",
       "    </tr>\n",
       "    <tr>\n",
       "      <th>min</th>\n",
       "      <td>2023.0</td>\n",
       "      <td>50101.000000</td>\n",
       "      <td>9.0</td>\n",
       "      <td>1.000000</td>\n",
       "    </tr>\n",
       "    <tr>\n",
       "      <th>25%</th>\n",
       "      <td>2023.0</td>\n",
       "      <td>470501.000000</td>\n",
       "      <td>9.0</td>\n",
       "      <td>2.000000</td>\n",
       "    </tr>\n",
       "    <tr>\n",
       "      <th>50%</th>\n",
       "      <td>2023.0</td>\n",
       "      <td>610401.000000</td>\n",
       "      <td>9.0</td>\n",
       "      <td>3.000000</td>\n",
       "    </tr>\n",
       "    <tr>\n",
       "      <th>75%</th>\n",
       "      <td>2023.0</td>\n",
       "      <td>810707.000000</td>\n",
       "      <td>9.0</td>\n",
       "      <td>4.000000</td>\n",
       "    </tr>\n",
       "    <tr>\n",
       "      <th>max</th>\n",
       "      <td>2023.0</td>\n",
       "      <td>850305.000000</td>\n",
       "      <td>9.0</td>\n",
       "      <td>5.000000</td>\n",
       "    </tr>\n",
       "  </tbody>\n",
       "</table>\n",
       "</div>"
      ],
      "text/plain": [
       "       TimePeriod          GeoID  GeoRank  Score out of 5\n",
       "count       197.0     197.000000    197.0      197.000000\n",
       "mean       2023.0  547297.847716      9.0        3.030457\n",
       "std           0.0  277804.486294      0.0        1.406648\n",
       "min        2023.0   50101.000000      9.0        1.000000\n",
       "25%        2023.0  470501.000000      9.0        2.000000\n",
       "50%        2023.0  610401.000000      9.0        3.000000\n",
       "75%        2023.0  810707.000000      9.0        4.000000\n",
       "max        2023.0  850305.000000      9.0        5.000000"
      ]
     },
     "execution_count": 4,
     "metadata": {},
     "output_type": "execute_result"
    }
   ],
   "source": [
    "heatdf.describe()"
   ]
  },
  {
   "cell_type": "code",
   "execution_count": 5,
   "metadata": {},
   "outputs": [
    {
     "data": {
      "text/plain": [
       "TimePeriod          1\n",
       "GeoType             1\n",
       "GeoID             197\n",
       "GeoRank             1\n",
       "Geography         197\n",
       "Score out of 5      5\n",
       "dtype: int64"
      ]
     },
     "execution_count": 5,
     "metadata": {},
     "output_type": "execute_result"
    }
   ],
   "source": [
    "heatdf.nunique()"
   ]
  },
  {
   "cell_type": "code",
   "execution_count": 6,
   "metadata": {},
   "outputs": [
    {
     "data": {
      "text/html": [
       "<div>\n",
       "<style scoped>\n",
       "    .dataframe tbody tr th:only-of-type {\n",
       "        vertical-align: middle;\n",
       "    }\n",
       "\n",
       "    .dataframe tbody tr th {\n",
       "        vertical-align: top;\n",
       "    }\n",
       "\n",
       "    .dataframe thead th {\n",
       "        text-align: right;\n",
       "    }\n",
       "</style>\n",
       "<table border=\"1\" class=\"dataframe\">\n",
       "  <thead>\n",
       "    <tr style=\"text-align: right;\">\n",
       "      <th></th>\n",
       "      <th>tree_id</th>\n",
       "      <th>block_id</th>\n",
       "      <th>created_at</th>\n",
       "      <th>tree_dbh</th>\n",
       "      <th>stump_diam</th>\n",
       "      <th>curb_loc</th>\n",
       "      <th>status</th>\n",
       "      <th>health</th>\n",
       "      <th>spc_latin</th>\n",
       "      <th>spc_common</th>\n",
       "      <th>...</th>\n",
       "      <th>st_assem</th>\n",
       "      <th>st_senate</th>\n",
       "      <th>nta</th>\n",
       "      <th>nta_name</th>\n",
       "      <th>boro_ct</th>\n",
       "      <th>state</th>\n",
       "      <th>latitude</th>\n",
       "      <th>longitude</th>\n",
       "      <th>x_sp</th>\n",
       "      <th>y_sp</th>\n",
       "    </tr>\n",
       "  </thead>\n",
       "  <tbody>\n",
       "    <tr>\n",
       "      <th>0</th>\n",
       "      <td>606945</td>\n",
       "      <td>305778</td>\n",
       "      <td>2016-06-28</td>\n",
       "      <td>10</td>\n",
       "      <td>0</td>\n",
       "      <td>OnCurb</td>\n",
       "      <td>Alive</td>\n",
       "      <td>Good</td>\n",
       "      <td>Fraxinus pennsylvanica</td>\n",
       "      <td>green ash</td>\n",
       "      <td>...</td>\n",
       "      <td>25</td>\n",
       "      <td>14</td>\n",
       "      <td>QN37</td>\n",
       "      <td>Kew Gardens Hills</td>\n",
       "      <td>4125700</td>\n",
       "      <td>New York</td>\n",
       "      <td>40.724339</td>\n",
       "      <td>-73.805180</td>\n",
       "      <td>1.038250e+06</td>\n",
       "      <td>203232.9417</td>\n",
       "    </tr>\n",
       "    <tr>\n",
       "      <th>1</th>\n",
       "      <td>160321</td>\n",
       "      <td>341273</td>\n",
       "      <td>2015-08-19</td>\n",
       "      <td>9</td>\n",
       "      <td>0</td>\n",
       "      <td>OnCurb</td>\n",
       "      <td>Alive</td>\n",
       "      <td>Good</td>\n",
       "      <td>Gleditsia triacanthos var. inermis</td>\n",
       "      <td>honeylocust</td>\n",
       "      <td>...</td>\n",
       "      <td>34</td>\n",
       "      <td>13</td>\n",
       "      <td>QN28</td>\n",
       "      <td>Jackson Heights</td>\n",
       "      <td>4030902</td>\n",
       "      <td>New York</td>\n",
       "      <td>40.756626</td>\n",
       "      <td>-73.894167</td>\n",
       "      <td>1.013571e+06</td>\n",
       "      <td>214953.6472</td>\n",
       "    </tr>\n",
       "    <tr>\n",
       "      <th>2</th>\n",
       "      <td>541347</td>\n",
       "      <td>325281</td>\n",
       "      <td>2015-12-30</td>\n",
       "      <td>7</td>\n",
       "      <td>0</td>\n",
       "      <td>OnCurb</td>\n",
       "      <td>Alive</td>\n",
       "      <td>Good</td>\n",
       "      <td>Pyrus calleryana</td>\n",
       "      <td>Callery pear</td>\n",
       "      <td>...</td>\n",
       "      <td>32</td>\n",
       "      <td>10</td>\n",
       "      <td>QN76</td>\n",
       "      <td>Baisley Park</td>\n",
       "      <td>4028800</td>\n",
       "      <td>New York</td>\n",
       "      <td>40.679777</td>\n",
       "      <td>-73.788463</td>\n",
       "      <td>1.042923e+06</td>\n",
       "      <td>187008.2671</td>\n",
       "    </tr>\n",
       "    <tr>\n",
       "      <th>3</th>\n",
       "      <td>613930</td>\n",
       "      <td>203822</td>\n",
       "      <td>2016-07-05</td>\n",
       "      <td>10</td>\n",
       "      <td>0</td>\n",
       "      <td>OnCurb</td>\n",
       "      <td>Alive</td>\n",
       "      <td>Good</td>\n",
       "      <td>Pyrus calleryana</td>\n",
       "      <td>Callery pear</td>\n",
       "      <td>...</td>\n",
       "      <td>46</td>\n",
       "      <td>22</td>\n",
       "      <td>BK31</td>\n",
       "      <td>Bay Ridge</td>\n",
       "      <td>3005000</td>\n",
       "      <td>New York</td>\n",
       "      <td>40.622743</td>\n",
       "      <td>-74.037543</td>\n",
       "      <td>9.738279e+05</td>\n",
       "      <td>166160.5847</td>\n",
       "    </tr>\n",
       "    <tr>\n",
       "      <th>4</th>\n",
       "      <td>18353</td>\n",
       "      <td>338911</td>\n",
       "      <td>2015-06-13</td>\n",
       "      <td>4</td>\n",
       "      <td>0</td>\n",
       "      <td>OnCurb</td>\n",
       "      <td>Alive</td>\n",
       "      <td>Good</td>\n",
       "      <td>Prunus virginiana</td>\n",
       "      <td>'Schubert' chokecherry</td>\n",
       "      <td>...</td>\n",
       "      <td>31</td>\n",
       "      <td>10</td>\n",
       "      <td>QN12</td>\n",
       "      <td>Hammels-Arverne-Edgemere</td>\n",
       "      <td>4095400</td>\n",
       "      <td>New York</td>\n",
       "      <td>40.596514</td>\n",
       "      <td>-73.797622</td>\n",
       "      <td>1.040452e+06</td>\n",
       "      <td>156667.5017</td>\n",
       "    </tr>\n",
       "  </tbody>\n",
       "</table>\n",
       "<p>5 rows × 41 columns</p>\n",
       "</div>"
      ],
      "text/plain": [
       "   tree_id  block_id  created_at  tree_dbh  stump_diam curb_loc status health  \\\n",
       "0   606945    305778  2016-06-28        10           0   OnCurb  Alive   Good   \n",
       "1   160321    341273  2015-08-19         9           0   OnCurb  Alive   Good   \n",
       "2   541347    325281  2015-12-30         7           0   OnCurb  Alive   Good   \n",
       "3   613930    203822  2016-07-05        10           0   OnCurb  Alive   Good   \n",
       "4    18353    338911  2015-06-13         4           0   OnCurb  Alive   Good   \n",
       "\n",
       "                            spc_latin              spc_common  ... st_assem  \\\n",
       "0              Fraxinus pennsylvanica               green ash  ...       25   \n",
       "1  Gleditsia triacanthos var. inermis             honeylocust  ...       34   \n",
       "2                    Pyrus calleryana            Callery pear  ...       32   \n",
       "3                    Pyrus calleryana            Callery pear  ...       46   \n",
       "4                   Prunus virginiana  'Schubert' chokecherry  ...       31   \n",
       "\n",
       "  st_senate   nta                  nta_name  boro_ct     state   latitude  \\\n",
       "0        14  QN37         Kew Gardens Hills  4125700  New York  40.724339   \n",
       "1        13  QN28           Jackson Heights  4030902  New York  40.756626   \n",
       "2        10  QN76              Baisley Park  4028800  New York  40.679777   \n",
       "3        22  BK31                 Bay Ridge  3005000  New York  40.622743   \n",
       "4        10  QN12  Hammels-Arverne-Edgemere  4095400  New York  40.596514   \n",
       "\n",
       "   longitude          x_sp         y_sp  \n",
       "0 -73.805180  1.038250e+06  203232.9417  \n",
       "1 -73.894167  1.013571e+06  214953.6472  \n",
       "2 -73.788463  1.042923e+06  187008.2671  \n",
       "3 -74.037543  9.738279e+05  166160.5847  \n",
       "4 -73.797622  1.040452e+06  156667.5017  \n",
       "\n",
       "[5 rows x 41 columns]"
      ]
     },
     "execution_count": 6,
     "metadata": {},
     "output_type": "execute_result"
    }
   ],
   "source": [
    "treedf.head()"
   ]
  },
  {
   "cell_type": "code",
   "execution_count": 7,
   "metadata": {},
   "outputs": [
    {
     "data": {
      "text/plain": [
       "188"
      ]
     },
     "execution_count": 7,
     "metadata": {},
     "output_type": "execute_result"
    }
   ],
   "source": [
    "treedf['nta_name'].nunique()"
   ]
  },
  {
   "cell_type": "code",
   "execution_count": 8,
   "metadata": {},
   "outputs": [
    {
     "data": {
      "text/plain": [
       "(683788, 41)"
      ]
     },
     "execution_count": 8,
     "metadata": {},
     "output_type": "execute_result"
    }
   ],
   "source": [
    "treedf.shape"
   ]
  },
  {
   "cell_type": "code",
   "execution_count": 9,
   "metadata": {},
   "outputs": [],
   "source": [
    "# Compare if the 'nta_name' and 'Geography' columns are same or not\n",
    "ntas = list(set(treedf['nta_name']))\n",
    "geos = list(heatdf['Geography'])"
   ]
  },
  {
   "cell_type": "code",
   "execution_count": 10,
   "metadata": {},
   "outputs": [],
   "source": [
    "ntas.sort()\n",
    "geos.sort()"
   ]
  },
  {
   "cell_type": "code",
   "execution_count": 11,
   "metadata": {},
   "outputs": [
    {
     "name": "stdout",
     "output_type": "stream",
     "text": [
      "['Allerton-Pelham Gardens', \"Annadale-Huguenot-Prince's Bay-Eltingville\", 'Arden Heights', 'Astoria', 'Auburndale', 'Baisley Park', 'Bath Beach', 'Battery Park City-Lower Manhattan', 'Bay Ridge', 'Bayside-Bayside Hills']\n",
      "['Allerton', \"Annadale-Huguenot-Prince's Bay-Woodrow\", 'Arden Heights-Rossville', 'Astoria (Central)', 'Astoria (East)-Woodside (North)', 'Astoria (North)-Ditmars-Steinway', 'Auburndale', 'Baisley Park', 'Bath Beach', 'Bay Ridge']\n"
     ]
    }
   ],
   "source": [
    "print(ntas[:10])\n",
    "print(geos[:10])\n"
   ]
  },
  {
   "cell_type": "code",
   "execution_count": 12,
   "metadata": {},
   "outputs": [
    {
     "name": "stdout",
     "output_type": "stream",
     "text": [
      "The overall similarity between the two lists is: 0.26\n"
     ]
    }
   ],
   "source": [
    "# Calculating how similar the columns are based on Syntactic similarity and not semantic, because context of the area \n",
    "# name is not really that important.\n",
    "\n",
    "def list_similarity(list1, list2):\n",
    "    set1 = set(list1)\n",
    "    set2 = set(list2)\n",
    "    \n",
    "    intersection = len(set1.intersection(set2))\n",
    "    union = len(set1.union(set2))\n",
    "    \n",
    "    jaccard_similarity = intersection / union if union != 0 else 0\n",
    "    \n",
    "    return jaccard_similarity\n",
    "\n",
    "similarity = list_similarity(ntas, geos)\n",
    "print(f\"The overall similarity between the two lists is: {similarity:.2f}\")"
   ]
  },
  {
   "cell_type": "markdown",
   "metadata": {},
   "source": [
    "### Soil and trees\n",
    "\n",
    "Our initial experiements consisted of another dataset. The Soil temperature dataset also compared. However, there are no data points that correspond to the geographical boundaries of NYC."
   ]
  },
  {
   "cell_type": "code",
   "execution_count": 1,
   "metadata": {},
   "outputs": [],
   "source": [
    "import pandas as pd"
   ]
  },
  {
   "cell_type": "code",
   "execution_count": 2,
   "metadata": {},
   "outputs": [],
   "source": [
    "soildf = pd.read_csv(\"datasets/Soil_Temp_Archive/2015_soil_temp.csv\")\n",
    "treedf = pd.read_csv(\"datasets/Tree_Census/new_york_tree_census_2015.csv\")"
   ]
  },
  {
   "cell_type": "code",
   "execution_count": 3,
   "metadata": {},
   "outputs": [
    {
     "data": {
      "text/html": [
       "<div>\n",
       "<style scoped>\n",
       "    .dataframe tbody tr th:only-of-type {\n",
       "        vertical-align: middle;\n",
       "    }\n",
       "\n",
       "    .dataframe tbody tr th {\n",
       "        vertical-align: top;\n",
       "    }\n",
       "\n",
       "    .dataframe thead th {\n",
       "        text-align: right;\n",
       "    }\n",
       "</style>\n",
       "<table border=\"1\" class=\"dataframe\">\n",
       "  <thead>\n",
       "    <tr style=\"text-align: right;\">\n",
       "      <th></th>\n",
       "      <th>nws_id</th>\n",
       "      <th>physicalelement</th>\n",
       "      <th>datetime(GMT)</th>\n",
       "      <th>sitename</th>\n",
       "      <th>wfo</th>\n",
       "      <th>latitude</th>\n",
       "      <th>longitude</th>\n",
       "      <th>soiltemp(F)</th>\n",
       "      <th>depth(in)</th>\n",
       "      <th>afos_id</th>\n",
       "      <th>extremum</th>\n",
       "    </tr>\n",
       "  </thead>\n",
       "  <tbody>\n",
       "    <tr>\n",
       "      <th>0</th>\n",
       "      <td>ABES2</td>\n",
       "      <td>TB</td>\n",
       "      <td>1/1/2015 14:00</td>\n",
       "      <td>Aberdeen 4NW</td>\n",
       "      <td>ABR</td>\n",
       "      <td>45.512500</td>\n",
       "      <td>-98.529167</td>\n",
       "      <td>21.0</td>\n",
       "      <td>2</td>\n",
       "      <td>KABRRR3ABR</td>\n",
       "      <td>Z</td>\n",
       "    </tr>\n",
       "    <tr>\n",
       "      <th>1</th>\n",
       "      <td>ALNM4</td>\n",
       "      <td>TB</td>\n",
       "      <td>1/1/2015 14:00</td>\n",
       "      <td>Albion 1NW /MAWN/</td>\n",
       "      <td>GRR</td>\n",
       "      <td>42.261944</td>\n",
       "      <td>-84.774167</td>\n",
       "      <td>33.0</td>\n",
       "      <td>2</td>\n",
       "      <td>KGRRRR2GRR</td>\n",
       "      <td>Z</td>\n",
       "    </tr>\n",
       "    <tr>\n",
       "      <th>2</th>\n",
       "      <td>BELM4</td>\n",
       "      <td>TB</td>\n",
       "      <td>1/1/2015 15:00</td>\n",
       "      <td>Belding 3WNW - MSU Ag Mesonet</td>\n",
       "      <td>GRR</td>\n",
       "      <td>43.110000</td>\n",
       "      <td>-85.310000</td>\n",
       "      <td>32.0</td>\n",
       "      <td>2</td>\n",
       "      <td>KMSRLCOMSR</td>\n",
       "      <td>Z</td>\n",
       "    </tr>\n",
       "    <tr>\n",
       "      <th>3</th>\n",
       "      <td>CERM4</td>\n",
       "      <td>TB</td>\n",
       "      <td>1/1/2015 15:00</td>\n",
       "      <td>Ceresco 6SSW - Ag Mesonet</td>\n",
       "      <td>GRR</td>\n",
       "      <td>42.220000</td>\n",
       "      <td>-85.150000</td>\n",
       "      <td>31.0</td>\n",
       "      <td>2</td>\n",
       "      <td>KMSRLCOMSR</td>\n",
       "      <td>Z</td>\n",
       "    </tr>\n",
       "    <tr>\n",
       "      <th>4</th>\n",
       "      <td>CHTM4</td>\n",
       "      <td>TB</td>\n",
       "      <td>1/1/2015 14:00</td>\n",
       "      <td>Charlotte (MAWN)</td>\n",
       "      <td>GRR</td>\n",
       "      <td>42.650833</td>\n",
       "      <td>-84.916111</td>\n",
       "      <td>31.0</td>\n",
       "      <td>2</td>\n",
       "      <td>KGRRRR2GRR</td>\n",
       "      <td>Z</td>\n",
       "    </tr>\n",
       "  </tbody>\n",
       "</table>\n",
       "</div>"
      ],
      "text/plain": [
       "  nws_id physicalelement   datetime(GMT)                       sitename  wfo  \\\n",
       "0  ABES2              TB  1/1/2015 14:00                   Aberdeen 4NW  ABR   \n",
       "1  ALNM4              TB  1/1/2015 14:00              Albion 1NW /MAWN/  GRR   \n",
       "2  BELM4              TB  1/1/2015 15:00  Belding 3WNW - MSU Ag Mesonet  GRR   \n",
       "3  CERM4              TB  1/1/2015 15:00      Ceresco 6SSW - Ag Mesonet  GRR   \n",
       "4  CHTM4              TB  1/1/2015 14:00               Charlotte (MAWN)  GRR   \n",
       "\n",
       "    latitude  longitude  soiltemp(F)  depth(in)     afos_id extremum  \n",
       "0  45.512500 -98.529167         21.0          2  KABRRR3ABR        Z  \n",
       "1  42.261944 -84.774167         33.0          2  KGRRRR2GRR        Z  \n",
       "2  43.110000 -85.310000         32.0          2  KMSRLCOMSR        Z  \n",
       "3  42.220000 -85.150000         31.0          2  KMSRLCOMSR        Z  \n",
       "4  42.650833 -84.916111         31.0          2  KGRRRR2GRR        Z  "
      ]
     },
     "execution_count": 3,
     "metadata": {},
     "output_type": "execute_result"
    }
   ],
   "source": [
    "soildf.head()"
   ]
  },
  {
   "cell_type": "code",
   "execution_count": 5,
   "metadata": {},
   "outputs": [
    {
     "data": {
      "text/html": [
       "<div>\n",
       "<style scoped>\n",
       "    .dataframe tbody tr th:only-of-type {\n",
       "        vertical-align: middle;\n",
       "    }\n",
       "\n",
       "    .dataframe tbody tr th {\n",
       "        vertical-align: top;\n",
       "    }\n",
       "\n",
       "    .dataframe thead th {\n",
       "        text-align: right;\n",
       "    }\n",
       "</style>\n",
       "<table border=\"1\" class=\"dataframe\">\n",
       "  <thead>\n",
       "    <tr style=\"text-align: right;\">\n",
       "      <th></th>\n",
       "      <th>latitude</th>\n",
       "      <th>longitude</th>\n",
       "      <th>soiltemp(F)</th>\n",
       "      <th>depth(in)</th>\n",
       "    </tr>\n",
       "  </thead>\n",
       "  <tbody>\n",
       "    <tr>\n",
       "      <th>count</th>\n",
       "      <td>156053.000000</td>\n",
       "      <td>156053.000000</td>\n",
       "      <td>156053.000000</td>\n",
       "      <td>156053.000000</td>\n",
       "    </tr>\n",
       "    <tr>\n",
       "      <th>mean</th>\n",
       "      <td>43.103751</td>\n",
       "      <td>-90.125043</td>\n",
       "      <td>49.893239</td>\n",
       "      <td>12.467559</td>\n",
       "    </tr>\n",
       "    <tr>\n",
       "      <th>std</th>\n",
       "      <td>2.374404</td>\n",
       "      <td>4.939204</td>\n",
       "      <td>14.572544</td>\n",
       "      <td>16.087994</td>\n",
       "    </tr>\n",
       "    <tr>\n",
       "      <th>min</th>\n",
       "      <td>36.766667</td>\n",
       "      <td>-103.737222</td>\n",
       "      <td>1.000000</td>\n",
       "      <td>2.000000</td>\n",
       "    </tr>\n",
       "    <tr>\n",
       "      <th>25%</th>\n",
       "      <td>41.934167</td>\n",
       "      <td>-93.526389</td>\n",
       "      <td>36.500000</td>\n",
       "      <td>2.000000</td>\n",
       "    </tr>\n",
       "    <tr>\n",
       "      <th>50%</th>\n",
       "      <td>43.023889</td>\n",
       "      <td>-89.243333</td>\n",
       "      <td>50.000000</td>\n",
       "      <td>4.000000</td>\n",
       "    </tr>\n",
       "    <tr>\n",
       "      <th>75%</th>\n",
       "      <td>44.641111</td>\n",
       "      <td>-85.959722</td>\n",
       "      <td>63.000000</td>\n",
       "      <td>20.000000</td>\n",
       "    </tr>\n",
       "    <tr>\n",
       "      <th>max</th>\n",
       "      <td>48.967500</td>\n",
       "      <td>-82.759800</td>\n",
       "      <td>99.100000</td>\n",
       "      <td>60.000000</td>\n",
       "    </tr>\n",
       "  </tbody>\n",
       "</table>\n",
       "</div>"
      ],
      "text/plain": [
       "            latitude      longitude    soiltemp(F)      depth(in)\n",
       "count  156053.000000  156053.000000  156053.000000  156053.000000\n",
       "mean       43.103751     -90.125043      49.893239      12.467559\n",
       "std         2.374404       4.939204      14.572544      16.087994\n",
       "min        36.766667    -103.737222       1.000000       2.000000\n",
       "25%        41.934167     -93.526389      36.500000       2.000000\n",
       "50%        43.023889     -89.243333      50.000000       4.000000\n",
       "75%        44.641111     -85.959722      63.000000      20.000000\n",
       "max        48.967500     -82.759800      99.100000      60.000000"
      ]
     },
     "execution_count": 5,
     "metadata": {},
     "output_type": "execute_result"
    }
   ],
   "source": [
    "soildf.describe()"
   ]
  },
  {
   "cell_type": "code",
   "execution_count": 6,
   "metadata": {},
   "outputs": [],
   "source": [
    "nyc_soildf = soildf[(soildf['latitude'] >= 40.4774) & (soildf['latitude'] <= 40.9176) &\n",
    "                   (soildf['longitude'] >= -74.2591) & (soildf['longitude'] <= -73.7004)]"
   ]
  },
  {
   "cell_type": "code",
   "execution_count": 7,
   "metadata": {},
   "outputs": [
    {
     "data": {
      "text/html": [
       "<div>\n",
       "<style scoped>\n",
       "    .dataframe tbody tr th:only-of-type {\n",
       "        vertical-align: middle;\n",
       "    }\n",
       "\n",
       "    .dataframe tbody tr th {\n",
       "        vertical-align: top;\n",
       "    }\n",
       "\n",
       "    .dataframe thead th {\n",
       "        text-align: right;\n",
       "    }\n",
       "</style>\n",
       "<table border=\"1\" class=\"dataframe\">\n",
       "  <thead>\n",
       "    <tr style=\"text-align: right;\">\n",
       "      <th></th>\n",
       "      <th>nws_id</th>\n",
       "      <th>physicalelement</th>\n",
       "      <th>datetime(GMT)</th>\n",
       "      <th>sitename</th>\n",
       "      <th>wfo</th>\n",
       "      <th>latitude</th>\n",
       "      <th>longitude</th>\n",
       "      <th>soiltemp(F)</th>\n",
       "      <th>depth(in)</th>\n",
       "      <th>afos_id</th>\n",
       "      <th>extremum</th>\n",
       "    </tr>\n",
       "  </thead>\n",
       "  <tbody>\n",
       "  </tbody>\n",
       "</table>\n",
       "</div>"
      ],
      "text/plain": [
       "Empty DataFrame\n",
       "Columns: [nws_id, physicalelement, datetime(GMT), sitename, wfo, latitude, longitude, soiltemp(F), depth(in), afos_id, extremum]\n",
       "Index: []"
      ]
     },
     "execution_count": 7,
     "metadata": {},
     "output_type": "execute_result"
    }
   ],
   "source": [
    "nyc_soildf"
   ]
  },
  {
   "cell_type": "markdown",
   "metadata": {},
   "source": [
    "### Testing fuzzwuzzy"
   ]
  },
  {
   "cell_type": "code",
   "execution_count": 2,
   "metadata": {},
   "outputs": [
    {
     "name": "stdout",
     "output_type": "stream",
     "text": [
      "Similarity Scores:\n",
      "Simple Ratio: 52%\n",
      "Partial Ratio: 100%\n",
      "Token Sort Ratio: 52%\n",
      "Token Set Ratio: 100%\n",
      "\n",
      "Best Matches:\n",
      "Allerton: 90%\n",
      "Pelham Gardens: 90%\n",
      "Other Location: 37%\n",
      "New York City: 28%\n"
     ]
    }
   ],
   "source": [
    "from fuzzywuzzy import fuzz\n",
    "from fuzzywuzzy import process\n",
    "\n",
    "# Function to calculate similarity scores\n",
    "def calculate_similarity_scores(string1, string2):\n",
    "    simple_ratio = fuzz.ratio(string1, string2)\n",
    "    partial_ratio = fuzz.partial_ratio(string1, string2)\n",
    "    token_sort_ratio = fuzz.token_sort_ratio(string1, string2)\n",
    "    token_set_ratio = fuzz.token_set_ratio(string1, string2)\n",
    "\n",
    "    print(f\"Simple Ratio: {simple_ratio}%\")\n",
    "    print(f\"Partial Ratio: {partial_ratio}%\")\n",
    "    print(f\"Token Sort Ratio: {token_sort_ratio}%\")\n",
    "    print(f\"Token Set Ratio: {token_set_ratio}%\")\n",
    "\n",
    "# Function to find best matches\n",
    "def find_best_matches(target, choices, limit=5):\n",
    "    result = process.extractBests(target, choices, limit=limit)\n",
    "    return result\n",
    "\n",
    "# Example usage\n",
    "if __name__ == \"__main__\":\n",
    "    string1 = \"Allerton-Pelham Gardens\"\n",
    "    string2 = \"Allerton\"\n",
    "\n",
    "    # Calculate similarity scores\n",
    "    print(\"Similarity Scores:\")\n",
    "    calculate_similarity_scores(string1, string2)\n",
    "\n",
    "    # Find best matches\n",
    "    choices = [\"Allerton\", \"Pelham Gardens\", \"Other Location\", \"New York City\"]\n",
    "    print(\"\\nBest Matches:\")\n",
    "    best_matches = find_best_matches(string1, choices)\n",
    "    for match, score in best_matches:\n",
    "        print(f\"{match}: {score}%\")\n"
   ]
  }
 ],
 "metadata": {
  "kernelspec": {
   "display_name": "Python 3",
   "language": "python",
   "name": "python3"
  },
  "language_info": {
   "codemirror_mode": {
    "name": "ipython",
    "version": 3
   },
   "file_extension": ".py",
   "mimetype": "text/x-python",
   "name": "python",
   "nbconvert_exporter": "python",
   "pygments_lexer": "ipython3",
   "version": "3.12.6"
  }
 },
 "nbformat": 4,
 "nbformat_minor": 2
}
